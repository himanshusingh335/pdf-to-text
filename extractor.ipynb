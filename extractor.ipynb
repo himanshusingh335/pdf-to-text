{
 "cells": [
  {
   "cell_type": "code",
   "execution_count": 1,
   "metadata": {},
   "outputs": [],
   "source": [
    "import fitz  # PyMuPDF\n",
    "import pytesseract\n",
    "import camelot\n",
    "import tabula\n",
    "import cv2\n",
    "import os"
   ]
  },
  {
   "cell_type": "code",
   "execution_count": 2,
   "metadata": {},
   "outputs": [],
   "source": [
    "# Set up Tesseract executable path if needed\n",
    "# pytesseract.pytesseract.tesseract_cmd = r'<path_to_your_tesseract_executable>'\n",
    "\n",
    "# Helper function to save images from PDF\n",
    "def extract_images_from_pdf(pdf_path):\n",
    "    doc = fitz.open(pdf_path)\n",
    "    images = []\n",
    "\n",
    "    for page_num in range(len(doc)):\n",
    "        page = doc.load_page(page_num)\n",
    "        image_list = page.get_images(full=True)\n",
    "\n",
    "        for img_index, img in enumerate(image_list):\n",
    "            xref = img[0]\n",
    "            base_image = doc.extract_image(xref)\n",
    "            image_bytes = base_image[\"image\"]\n",
    "            image_ext = base_image[\"ext\"]\n",
    "            image_filename = f\"page_{page_num+1}_img_{img_index+1}.{image_ext}\"\n",
    "            with open(image_filename, \"wb\") as img_file:\n",
    "                img_file.write(image_bytes)\n",
    "            images.append(image_filename)\n",
    "\n",
    "    return images"
   ]
  },
  {
   "cell_type": "code",
   "execution_count": 3,
   "metadata": {},
   "outputs": [],
   "source": [
    "# Extract tables from PDF using Camelot and Tabula\n",
    "def extract_tables_from_pdf(pdf_path):\n",
    "    tables_camelot = camelot.read_pdf(pdf_path, pages='all', flavor='stream')\n",
    "    #tables_tabula = tabula.read_pdf(pdf_path, pages='all', multiple_tables=True)\n",
    "\n",
    "    # Combining tables extracted from both libraries\n",
    "    all_tables = []\n",
    "    if tables_camelot:\n",
    "        all_tables.extend(tables_camelot)\n",
    "    #if tables_tabula:\n",
    "    #    all_tables.extend(tables_tabula)\n",
    "\n",
    "    return all_tables\n"
   ]
  },
  {
   "cell_type": "code",
   "execution_count": 4,
   "metadata": {},
   "outputs": [],
   "source": [
    "# OCR for chart images\n",
    "def extract_text_from_image(image_path):\n",
    "    # Read image using OpenCV\n",
    "    img = cv2.imread(image_path)\n",
    "    # Convert image to grayscale\n",
    "    gray = cv2.cvtColor(img, cv2.COLOR_BGR2GRAY)\n",
    "    # Use Tesseract to extract text from image\n",
    "    text = pytesseract.image_to_string(gray)\n",
    "    return text"
   ]
  },
  {
   "cell_type": "code",
   "execution_count": 5,
   "metadata": {},
   "outputs": [],
   "source": [
    "import pandas as pd\n",
    "# Main function to process PDF\n",
    "def process_pdf(pdf_path):\n",
    "    # Step 1: Extract tables from PDF\n",
    "    tables = extract_tables_from_pdf(pdf_path)\n",
    "    print(\"Extracted Tables:\")\n",
    "    for table in tables:\n",
    "        df = table.df if hasattr(table, 'df') else table\n",
    "        print(df.head())\n",
    "\n",
    "    # Step 2: Extract images (for charts) from PDF\n",
    "    images = extract_images_from_pdf(pdf_path)\n",
    "    print(\"\\nExtracted Images (for charts):\")\n",
    "    for img in images:\n",
    "        print(f\"Processing {img}...\")\n",
    "        # Perform OCR to get data from chart images\n",
    "        chart_text = extract_text_from_image(img)\n",
    "        print(f\"Extracted data from chart image {img}:\\n{chart_text}\")"
   ]
  },
  {
   "cell_type": "code",
   "execution_count": 6,
   "metadata": {},
   "outputs": [
    {
     "name": "stdout",
     "output_type": "stream",
     "text": [
      "Extracted Tables:\n",
      "         0 1        2       3 4\n",
      "0             Table 1          \n",
      "1  Country     Amount          \n",
      "2    India             150123  \n",
      "3    China             123494  \n",
      "4   Russia              43948  \n",
      "\n",
      "Extracted Images (for charts):\n",
      "Processing page_1_img_1.png...\n",
      "Extracted data from chart image page_1_img_1.png:\n",
      "Amount (%)\n",
      "\n",
      "17500\n",
      "\n",
      "15000\n",
      "\n",
      "12500\n",
      "\n",
      "10000\n",
      "\n",
      "7500\n",
      "\n",
      "5000\n",
      "\n",
      "2500\n",
      "\n",
      "Budget vs Expenditure by Category\n",
      "\n",
      "Type\n",
      "\n",
      "Mmmm Budget\n",
      "@@m_ Expenditure\n",
      "\n",
      "Category\n",
      "\n",
      "\n"
     ]
    }
   ],
   "source": [
    "# Example usage\n",
    "pdf_path = 'test5.pdf'  # Replace with your PDF file\n",
    "process_pdf(pdf_path)"
   ]
  },
  {
   "cell_type": "code",
   "execution_count": null,
   "metadata": {},
   "outputs": [],
   "source": []
  }
 ],
 "metadata": {
  "kernelspec": {
   "display_name": "image-ocr",
   "language": "python",
   "name": "python3"
  },
  "language_info": {
   "codemirror_mode": {
    "name": "ipython",
    "version": 3
   },
   "file_extension": ".py",
   "mimetype": "text/x-python",
   "name": "python",
   "nbconvert_exporter": "python",
   "pygments_lexer": "ipython3",
   "version": "3.12.7"
  }
 },
 "nbformat": 4,
 "nbformat_minor": 2
}
